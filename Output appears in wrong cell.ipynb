{
 "cells": [
  {
   "cell_type": "markdown",
   "metadata": {},
   "source": [
    "# Output appears in wrong cell"
   ]
  },
  {
   "cell_type": "code",
   "execution_count": 1,
   "metadata": {},
   "outputs": [
    {
     "data": {
      "text/plain": [
       "Server {\n",
       "  domain: null,\n",
       "  _events: \n",
       "   { request: \n",
       "      { [Function]\n",
       "        domain: undefined,\n",
       "        _events: [Object],\n",
       "        _maxListeners: undefined,\n",
       "        setMaxListeners: [Function: setMaxListeners],\n",
       "        getMaxListeners: [Function: getMaxListeners],\n",
       "        emit: [Function: emit],\n",
       "        addListener: [Function: addListener],\n",
       "        on: [Function: addListener],\n",
       "        once: [Function: once],\n",
       "        removeListener: [Function: removeListener],\n",
       "        removeAllListeners: [Function: removeAllListeners],\n",
       "        listeners: [Function: listeners],\n",
       "        listenerCount: [Function: listenerCount],\n",
       "        init: [Function: init],\n",
       "        defaultConfiguration: [Function: defaultConfiguration],\n",
       "        lazyrouter: [Function: lazyrouter],\n",
       "        handle: [Function: handle],\n",
       "        use: [Function: use],\n",
       "        route: [Function: route],\n",
       "        engine: [Function: engine],\n",
       "        param: [Function: param],\n",
       "        set: [Function: set],\n",
       "        path: [Function: path],\n",
       "        enabled: [Function: enabled],\n",
       "        disabled: [Function: disabled],\n",
       "        enable: [Function: enable],\n",
       "        disable: [Function: disable],\n",
       "        checkout: [Function],\n",
       "        connect: [Function],\n",
       "        copy: [Function],\n",
       "        delete: [Function],\n",
       "        get: [Function],\n",
       "        head: [Function],\n",
       "        lock: [Function],\n",
       "        'm-search': [Function],\n",
       "        merge: [Function],\n",
       "        mkactivity: [Function],\n",
       "        mkcalendar: [Function],\n",
       "        mkcol: [Function],\n",
       "        move: [Function],\n",
       "        notify: [Function],\n",
       "        options: [Function],\n",
       "        patch: [Function],\n",
       "        post: [Function],\n",
       "        propfind: [Function],\n",
       "        proppatch: [Function],\n",
       "        purge: [Function],\n",
       "        put: [Function],\n",
       "        report: [Function],\n",
       "        search: [Function],\n",
       "        subscribe: [Function],\n",
       "        trace: [Function],\n",
       "        unlock: [Function],\n",
       "        unsubscribe: [Function],\n",
       "        all: [Function: all],\n",
       "        del: [Function],\n",
       "        render: [Function: render],\n",
       "        listen: [Function: listen],\n",
       "        request: [Object],\n",
       "        response: [Object],\n",
       "        cache: {},\n",
       "        engines: {},\n",
       "        settings: [Object],\n",
       "        _eventsCount: 1,\n",
       "        locals: [Object],\n",
       "        mountpath: '/',\n",
       "        _router: [Object] },\n",
       "     connection: [Function: connectionListener],\n",
       "     clientError: [Function],\n",
       "     listening: { [Function: g] listener: [Function] } },\n",
       "  _eventsCount: 4,\n",
       "  _maxListeners: undefined,\n",
       "  _connections: 0,\n",
       "  _handle: \n",
       "   TCP {\n",
       "     _externalStream: {},\n",
       "     fd: 11,\n",
       "     reading: false,\n",
       "     owner: [Circular],\n",
       "     onread: null,\n",
       "     onconnection: [Function: onconnection],\n",
       "     writeQueueSize: 0 },\n",
       "  _usingSlaves: false,\n",
       "  _slaves: [],\n",
       "  _unref: false,\n",
       "  allowHalfOpen: true,\n",
       "  pauseOnConnect: false,\n",
       "  httpAllowHalfOpen: false,\n",
       "  timeout: 120000,\n",
       "  _pendingResponseData: 0,\n",
       "  _connectionKey: '6::::3333' }"
      ]
     },
     "execution_count": 1,
     "metadata": {},
     "output_type": "execute_result"
    }
   ],
   "source": [
    "var express = require('express');\n",
    "var app = express();\n",
    "var http = require('http').Server(app);\n",
    "\n",
    "app.get('/', (req, res) => {\n",
    "    res.send('Hello, Worlds!');\n",
    "});\n",
    "\n",
    "http.listen(3333, () => {\n",
    "    console.log('listening on *:3333');\n",
    "});"
   ]
  },
  {
   "cell_type": "markdown",
   "metadata": {},
   "source": [
    "This is a test"
   ]
  },
  {
   "cell_type": "code",
   "execution_count": 2,
   "metadata": {},
   "outputs": [
    {
     "name": "stdout",
     "output_type": "stream",
     "text": [
      "listening on *:3333\n",
      "[ { foo: true } ]\n",
      "[ { foo: false } ]\n"
     ]
    }
   ],
   "source": [
    "var o = {foo: true};\n",
    "var arr = [o];\n",
    "console.log(arr);\n",
    "o.foo = false;\n",
    "console.log(arr);"
   ]
  },
  {
   "cell_type": "code",
   "execution_count": null,
   "metadata": {},
   "outputs": [],
   "source": []
  }
 ],
 "metadata": {
  "kernelspec": {
   "display_name": "Javascript (Node.js)",
   "language": "javascript",
   "name": "javascript"
  },
  "language_info": {
   "file_extension": ".js",
   "mimetype": "application/javascript",
   "name": "javascript",
   "version": "4.2.6"
  }
 },
 "nbformat": 4,
 "nbformat_minor": 2
}
